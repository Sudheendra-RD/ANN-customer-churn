{
  "nbformat": 4,
  "nbformat_minor": 0,
  "metadata": {
    "colab": {
      "name": "ANN",
      "provenance": []
    },
    "kernelspec": {
      "name": "python3",
      "display_name": "Python 3"
    },
    "language_info": {
      "name": "python"
    }
  },
  "cells": [
    {
      "cell_type": "code",
      "execution_count": 34,
      "metadata": {
        "id": "Z8Zlw3FoFAz4"
      },
      "outputs": [],
      "source": [
        "import pandas as pd\n",
        "import numpy as np\n",
        "import matplotlib.pyplot as plt"
      ]
    },
    {
      "cell_type": "code",
      "source": [
        "dataset = pd.read_csv('drive/MyDrive/Colab Notebooks/ANN/Churn_Modelling.csv')\n",
        "dataset.head(3)"
      ],
      "metadata": {
        "colab": {
          "base_uri": "https://localhost:8080/",
          "height": 143
        },
        "id": "Xy45IUJCFxHP",
        "outputId": "a8e61c7a-3c6d-4e16-bb99-48df910bcf6a"
      },
      "execution_count": 35,
      "outputs": [
        {
          "output_type": "execute_result",
          "data": {
            "text/html": [
              "\n",
              "  <div id=\"df-0a631702-393a-489d-a3dc-308619602724\">\n",
              "    <div class=\"colab-df-container\">\n",
              "      <div>\n",
              "<style scoped>\n",
              "    .dataframe tbody tr th:only-of-type {\n",
              "        vertical-align: middle;\n",
              "    }\n",
              "\n",
              "    .dataframe tbody tr th {\n",
              "        vertical-align: top;\n",
              "    }\n",
              "\n",
              "    .dataframe thead th {\n",
              "        text-align: right;\n",
              "    }\n",
              "</style>\n",
              "<table border=\"1\" class=\"dataframe\">\n",
              "  <thead>\n",
              "    <tr style=\"text-align: right;\">\n",
              "      <th></th>\n",
              "      <th>RowNumber</th>\n",
              "      <th>CustomerId</th>\n",
              "      <th>Surname</th>\n",
              "      <th>CreditScore</th>\n",
              "      <th>Geography</th>\n",
              "      <th>Gender</th>\n",
              "      <th>Age</th>\n",
              "      <th>Tenure</th>\n",
              "      <th>Balance</th>\n",
              "      <th>NumOfProducts</th>\n",
              "      <th>HasCrCard</th>\n",
              "      <th>IsActiveMember</th>\n",
              "      <th>EstimatedSalary</th>\n",
              "      <th>Exited</th>\n",
              "    </tr>\n",
              "  </thead>\n",
              "  <tbody>\n",
              "    <tr>\n",
              "      <th>0</th>\n",
              "      <td>1</td>\n",
              "      <td>15634602</td>\n",
              "      <td>Hargrave</td>\n",
              "      <td>619</td>\n",
              "      <td>France</td>\n",
              "      <td>Female</td>\n",
              "      <td>42</td>\n",
              "      <td>2</td>\n",
              "      <td>0.00</td>\n",
              "      <td>1</td>\n",
              "      <td>1</td>\n",
              "      <td>1</td>\n",
              "      <td>101348.88</td>\n",
              "      <td>1</td>\n",
              "    </tr>\n",
              "    <tr>\n",
              "      <th>1</th>\n",
              "      <td>2</td>\n",
              "      <td>15647311</td>\n",
              "      <td>Hill</td>\n",
              "      <td>608</td>\n",
              "      <td>Spain</td>\n",
              "      <td>Female</td>\n",
              "      <td>41</td>\n",
              "      <td>1</td>\n",
              "      <td>83807.86</td>\n",
              "      <td>1</td>\n",
              "      <td>0</td>\n",
              "      <td>1</td>\n",
              "      <td>112542.58</td>\n",
              "      <td>0</td>\n",
              "    </tr>\n",
              "    <tr>\n",
              "      <th>2</th>\n",
              "      <td>3</td>\n",
              "      <td>15619304</td>\n",
              "      <td>Onio</td>\n",
              "      <td>502</td>\n",
              "      <td>France</td>\n",
              "      <td>Female</td>\n",
              "      <td>42</td>\n",
              "      <td>8</td>\n",
              "      <td>159660.80</td>\n",
              "      <td>3</td>\n",
              "      <td>1</td>\n",
              "      <td>0</td>\n",
              "      <td>113931.57</td>\n",
              "      <td>1</td>\n",
              "    </tr>\n",
              "  </tbody>\n",
              "</table>\n",
              "</div>\n",
              "      <button class=\"colab-df-convert\" onclick=\"convertToInteractive('df-0a631702-393a-489d-a3dc-308619602724')\"\n",
              "              title=\"Convert this dataframe to an interactive table.\"\n",
              "              style=\"display:none;\">\n",
              "        \n",
              "  <svg xmlns=\"http://www.w3.org/2000/svg\" height=\"24px\"viewBox=\"0 0 24 24\"\n",
              "       width=\"24px\">\n",
              "    <path d=\"M0 0h24v24H0V0z\" fill=\"none\"/>\n",
              "    <path d=\"M18.56 5.44l.94 2.06.94-2.06 2.06-.94-2.06-.94-.94-2.06-.94 2.06-2.06.94zm-11 1L8.5 8.5l.94-2.06 2.06-.94-2.06-.94L8.5 2.5l-.94 2.06-2.06.94zm10 10l.94 2.06.94-2.06 2.06-.94-2.06-.94-.94-2.06-.94 2.06-2.06.94z\"/><path d=\"M17.41 7.96l-1.37-1.37c-.4-.4-.92-.59-1.43-.59-.52 0-1.04.2-1.43.59L10.3 9.45l-7.72 7.72c-.78.78-.78 2.05 0 2.83L4 21.41c.39.39.9.59 1.41.59.51 0 1.02-.2 1.41-.59l7.78-7.78 2.81-2.81c.8-.78.8-2.07 0-2.86zM5.41 20L4 18.59l7.72-7.72 1.47 1.35L5.41 20z\"/>\n",
              "  </svg>\n",
              "      </button>\n",
              "      \n",
              "  <style>\n",
              "    .colab-df-container {\n",
              "      display:flex;\n",
              "      flex-wrap:wrap;\n",
              "      gap: 12px;\n",
              "    }\n",
              "\n",
              "    .colab-df-convert {\n",
              "      background-color: #E8F0FE;\n",
              "      border: none;\n",
              "      border-radius: 50%;\n",
              "      cursor: pointer;\n",
              "      display: none;\n",
              "      fill: #1967D2;\n",
              "      height: 32px;\n",
              "      padding: 0 0 0 0;\n",
              "      width: 32px;\n",
              "    }\n",
              "\n",
              "    .colab-df-convert:hover {\n",
              "      background-color: #E2EBFA;\n",
              "      box-shadow: 0px 1px 2px rgba(60, 64, 67, 0.3), 0px 1px 3px 1px rgba(60, 64, 67, 0.15);\n",
              "      fill: #174EA6;\n",
              "    }\n",
              "\n",
              "    [theme=dark] .colab-df-convert {\n",
              "      background-color: #3B4455;\n",
              "      fill: #D2E3FC;\n",
              "    }\n",
              "\n",
              "    [theme=dark] .colab-df-convert:hover {\n",
              "      background-color: #434B5C;\n",
              "      box-shadow: 0px 1px 3px 1px rgba(0, 0, 0, 0.15);\n",
              "      filter: drop-shadow(0px 1px 2px rgba(0, 0, 0, 0.3));\n",
              "      fill: #FFFFFF;\n",
              "    }\n",
              "  </style>\n",
              "\n",
              "      <script>\n",
              "        const buttonEl =\n",
              "          document.querySelector('#df-0a631702-393a-489d-a3dc-308619602724 button.colab-df-convert');\n",
              "        buttonEl.style.display =\n",
              "          google.colab.kernel.accessAllowed ? 'block' : 'none';\n",
              "\n",
              "        async function convertToInteractive(key) {\n",
              "          const element = document.querySelector('#df-0a631702-393a-489d-a3dc-308619602724');\n",
              "          const dataTable =\n",
              "            await google.colab.kernel.invokeFunction('convertToInteractive',\n",
              "                                                     [key], {});\n",
              "          if (!dataTable) return;\n",
              "\n",
              "          const docLinkHtml = 'Like what you see? Visit the ' +\n",
              "            '<a target=\"_blank\" href=https://colab.research.google.com/notebooks/data_table.ipynb>data table notebook</a>'\n",
              "            + ' to learn more about interactive tables.';\n",
              "          element.innerHTML = '';\n",
              "          dataTable['output_type'] = 'display_data';\n",
              "          await google.colab.output.renderOutput(dataTable, element);\n",
              "          const docLink = document.createElement('div');\n",
              "          docLink.innerHTML = docLinkHtml;\n",
              "          element.appendChild(docLink);\n",
              "        }\n",
              "      </script>\n",
              "    </div>\n",
              "  </div>\n",
              "  "
            ],
            "text/plain": [
              "   RowNumber  CustomerId   Surname  ...  IsActiveMember EstimatedSalary Exited\n",
              "0          1    15634602  Hargrave  ...               1       101348.88      1\n",
              "1          2    15647311      Hill  ...               1       112542.58      0\n",
              "2          3    15619304      Onio  ...               0       113931.57      1\n",
              "\n",
              "[3 rows x 14 columns]"
            ]
          },
          "metadata": {},
          "execution_count": 35
        }
      ]
    },
    {
      "cell_type": "code",
      "source": [
        "#Since the first 3 columns are pf no use to the modelling, we remove it\n",
        "x = dataset.iloc[:, 3:13]\n",
        "y = dataset.iloc[:, 13:]"
      ],
      "metadata": {
        "id": "4d2WCh_KF6P5"
      },
      "execution_count": 36,
      "outputs": []
    },
    {
      "cell_type": "code",
      "source": [
        "# We need to encode the categorical features like Geography and Gender\n",
        "# We use OHE for Geagraphy and Label encoding of Gender\n",
        "geography = pd.get_dummies(x['Geography'], drop_first=True)\n",
        "gender = pd.get_dummies(x['Gender'], drop_first=True)"
      ],
      "metadata": {
        "id": "M8a17HAVGjjc"
      },
      "execution_count": 37,
      "outputs": []
    },
    {
      "cell_type": "code",
      "source": [
        "# We ned to concatenate the newly encoded columns with x\n",
        "x = pd.concat([x, geography, gender], axis=1)"
      ],
      "metadata": {
        "id": "Q1AfefR1Iqfc"
      },
      "execution_count": 38,
      "outputs": []
    },
    {
      "cell_type": "code",
      "source": [
        "# We  need to delete the original column from which we have encoded\n",
        "# Else the algorithm faces multicollinearity\n",
        "x = x.drop(['Geography', 'Gender'], axis=1)"
      ],
      "metadata": {
        "id": "pcsALls_IukE"
      },
      "execution_count": 39,
      "outputs": []
    },
    {
      "cell_type": "code",
      "source": [
        "# We will split the data into train-test\n",
        "from sklearn.model_selection import train_test_split\n",
        "x_train, x_test, y_train, y_test = train_test_split(x, y, test_size=0.2, random_state = 0)"
      ],
      "metadata": {
        "id": "QV0CsKtlJc1M"
      },
      "execution_count": 40,
      "outputs": []
    },
    {
      "cell_type": "code",
      "source": [
        "# Since it is a ANN, we need to do Feature Scaling.\n",
        "# This is because to reduce the variance of output and time taken to predict\n",
        "from sklearn.preprocessing import StandardScaler\n",
        "sc = StandardScaler()\n",
        "x_train = sc.fit_transform(x_train)\n",
        "x_test = sc.transform(x_test)"
      ],
      "metadata": {
        "id": "1uMmM4sQKBOz"
      },
      "execution_count": 41,
      "outputs": []
    },
    {
      "cell_type": "code",
      "source": [
        "# Creating the Artificial Neural Network\n",
        "# We import keras and other dependent libraries like Relu, loss fcn etc.\n",
        "import keras\n",
        "# We use \"Sequential\" to create layer-by-layer models like ANN\n",
        "# It does not allow layer sharing and multiple imput models like RNN\n",
        "from keras.models import Sequential\n",
        "# Dense is used in most of the NN architecture\n",
        "# It is a layer that is deeply connected, i.e. one neuron in a dense has many inputs from the previous layer\n",
        "from keras.layers import Dense\n",
        "from keras.layers import LeakyReLU, PReLU, ELU\n",
        "# Dropout is a regularization parameter used when the NN has many layers.\n",
        "# this is done to prevent overfitting\n",
        "from keras.layers import Dropout"
      ],
      "metadata": {
        "id": "w7DugPreK6e-"
      },
      "execution_count": 42,
      "outputs": []
    },
    {
      "cell_type": "code",
      "source": [
        "# Initializing the ANN\n",
        "# It is a process of creating a empty ANN\n",
        "classifier = Sequential()"
      ],
      "metadata": {
        "id": "YpsqPQLgK_U7"
      },
      "execution_count": 43,
      "outputs": []
    },
    {
      "cell_type": "code",
      "source": [
        "# adding input layer and first hidden layer\n",
        "# We are using 6 node hidden layer. So units = 6\n",
        "# we are using HE uniform as a weight initialization fcn.\n",
        "# We are using ReLu activation fcn\n",
        "# Since we have 11 input columns, input_dim = 11. it should be specified to the first hidden layer\n",
        "classifier.add(Dense(units=6, kernel_initializer='he_uniform', activation='relu', input_dim = 11))"
      ],
      "metadata": {
        "id": "InA0CwAnPnC1"
      },
      "execution_count": 44,
      "outputs": []
    },
    {
      "cell_type": "code",
      "source": [
        "# We add another hidden layer with same parameters.\n",
        "classifier.add(Dense(units=6, kernel_initializer='he_uniform', activation='relu'))"
      ],
      "metadata": {
        "id": "QOKyT5tcSDSZ"
      },
      "execution_count": 45,
      "outputs": []
    },
    {
      "cell_type": "code",
      "source": [
        "# Now we add a output layer.\n",
        "# Since it is a Classfn. problem, we use sigmoid AF.\n",
        "# since we have only one output column, we use output_dim = 1\n",
        "# We use Xavier-Glorot weight initialization fcn.\n",
        "classifier.add(Dense(units=1, kernel_initializer='glorot_uniform', activation='sigmoid'))"
      ],
      "metadata": {
        "id": "vNS-VfyISHAY"
      },
      "execution_count": 46,
      "outputs": []
    },
    {
      "cell_type": "code",
      "source": [
        "classifier.summary()"
      ],
      "metadata": {
        "colab": {
          "base_uri": "https://localhost:8080/"
        },
        "id": "4v7WIrsBT8kp",
        "outputId": "1e45c8c2-cdbd-49e6-b826-2663267ad792"
      },
      "execution_count": 47,
      "outputs": [
        {
          "output_type": "stream",
          "name": "stdout",
          "text": [
            "Model: \"sequential_2\"\n",
            "_________________________________________________________________\n",
            " Layer (type)                Output Shape              Param #   \n",
            "=================================================================\n",
            " dense_4 (Dense)             (None, 6)                 72        \n",
            "                                                                 \n",
            " dense_5 (Dense)             (None, 6)                 42        \n",
            "                                                                 \n",
            " dense_6 (Dense)             (None, 1)                 7         \n",
            "                                                                 \n",
            "=================================================================\n",
            "Total params: 121\n",
            "Trainable params: 121\n",
            "Non-trainable params: 0\n",
            "_________________________________________________________________\n"
          ]
        }
      ]
    },
    {
      "cell_type": "code",
      "source": [
        "# Now we need to define the loss fcn, metrics, optimizer we are using to calculate weights\n",
        "classifier.compile(optimizer='adam', loss = 'binary_crossentropy', metrics=['accuracy'])"
      ],
      "metadata": {
        "id": "-QCfA2pqUAGH"
      },
      "execution_count": 48,
      "outputs": []
    },
    {
      "cell_type": "code",
      "source": [
        "model_history = classifier.fit(x_train, y_train, validation_split=0.33, batch_size=10, epochs=100)"
      ],
      "metadata": {
        "colab": {
          "base_uri": "https://localhost:8080/"
        },
        "id": "oFWeU7w2VW7q",
        "outputId": "5a1b8715-faae-47c2-f352-312990bd877e"
      },
      "execution_count": 49,
      "outputs": [
        {
          "output_type": "stream",
          "name": "stdout",
          "text": [
            "Epoch 1/100\n",
            "536/536 [==============================] - 2s 2ms/step - loss: 0.5417 - accuracy: 0.7593 - val_loss: 0.4651 - val_accuracy: 0.7993\n",
            "Epoch 2/100\n",
            "536/536 [==============================] - 1s 2ms/step - loss: 0.4558 - accuracy: 0.8024 - val_loss: 0.4451 - val_accuracy: 0.8012\n",
            "Epoch 3/100\n",
            "536/536 [==============================] - 1s 2ms/step - loss: 0.4363 - accuracy: 0.8084 - val_loss: 0.4311 - val_accuracy: 0.8046\n",
            "Epoch 4/100\n",
            "536/536 [==============================] - 1s 2ms/step - loss: 0.4209 - accuracy: 0.8138 - val_loss: 0.4197 - val_accuracy: 0.8111\n",
            "Epoch 5/100\n",
            "536/536 [==============================] - 1s 2ms/step - loss: 0.4051 - accuracy: 0.8252 - val_loss: 0.4065 - val_accuracy: 0.8190\n",
            "Epoch 6/100\n",
            "536/536 [==============================] - 1s 2ms/step - loss: 0.3895 - accuracy: 0.8362 - val_loss: 0.3955 - val_accuracy: 0.8254\n",
            "Epoch 7/100\n",
            "536/536 [==============================] - 1s 2ms/step - loss: 0.3744 - accuracy: 0.8434 - val_loss: 0.3865 - val_accuracy: 0.8326\n",
            "Epoch 8/100\n",
            "536/536 [==============================] - 1s 2ms/step - loss: 0.3628 - accuracy: 0.8502 - val_loss: 0.3782 - val_accuracy: 0.8357\n",
            "Epoch 9/100\n",
            "536/536 [==============================] - 1s 2ms/step - loss: 0.3556 - accuracy: 0.8520 - val_loss: 0.3732 - val_accuracy: 0.8413\n",
            "Epoch 10/100\n",
            "536/536 [==============================] - 1s 2ms/step - loss: 0.3500 - accuracy: 0.8531 - val_loss: 0.3732 - val_accuracy: 0.8448\n",
            "Epoch 11/100\n",
            "536/536 [==============================] - 1s 2ms/step - loss: 0.3472 - accuracy: 0.8550 - val_loss: 0.3698 - val_accuracy: 0.8470\n",
            "Epoch 12/100\n",
            "536/536 [==============================] - 1s 2ms/step - loss: 0.3439 - accuracy: 0.8563 - val_loss: 0.3674 - val_accuracy: 0.8463\n",
            "Epoch 13/100\n",
            "536/536 [==============================] - 1s 2ms/step - loss: 0.3432 - accuracy: 0.8586 - val_loss: 0.3670 - val_accuracy: 0.8455\n",
            "Epoch 14/100\n",
            "536/536 [==============================] - 1s 2ms/step - loss: 0.3425 - accuracy: 0.8582 - val_loss: 0.3653 - val_accuracy: 0.8485\n",
            "Epoch 15/100\n",
            "536/536 [==============================] - 1s 2ms/step - loss: 0.3407 - accuracy: 0.8589 - val_loss: 0.3696 - val_accuracy: 0.8482\n",
            "Epoch 16/100\n",
            "536/536 [==============================] - 1s 2ms/step - loss: 0.3409 - accuracy: 0.8597 - val_loss: 0.3653 - val_accuracy: 0.8516\n",
            "Epoch 17/100\n",
            "536/536 [==============================] - 1s 2ms/step - loss: 0.3399 - accuracy: 0.8599 - val_loss: 0.3642 - val_accuracy: 0.8493\n",
            "Epoch 18/100\n",
            "536/536 [==============================] - 1s 2ms/step - loss: 0.3397 - accuracy: 0.8597 - val_loss: 0.3641 - val_accuracy: 0.8512\n",
            "Epoch 19/100\n",
            "536/536 [==============================] - 1s 2ms/step - loss: 0.3381 - accuracy: 0.8606 - val_loss: 0.3639 - val_accuracy: 0.8527\n",
            "Epoch 20/100\n",
            "536/536 [==============================] - 1s 2ms/step - loss: 0.3382 - accuracy: 0.8627 - val_loss: 0.3632 - val_accuracy: 0.8531\n",
            "Epoch 21/100\n",
            "536/536 [==============================] - 1s 2ms/step - loss: 0.3376 - accuracy: 0.8615 - val_loss: 0.3629 - val_accuracy: 0.8538\n",
            "Epoch 22/100\n",
            "536/536 [==============================] - 1s 2ms/step - loss: 0.3369 - accuracy: 0.8612 - val_loss: 0.3632 - val_accuracy: 0.8546\n",
            "Epoch 23/100\n",
            "536/536 [==============================] - 1s 2ms/step - loss: 0.3365 - accuracy: 0.8619 - val_loss: 0.3651 - val_accuracy: 0.8493\n",
            "Epoch 24/100\n",
            "536/536 [==============================] - 1s 2ms/step - loss: 0.3362 - accuracy: 0.8619 - val_loss: 0.3626 - val_accuracy: 0.8516\n",
            "Epoch 25/100\n",
            "536/536 [==============================] - 1s 2ms/step - loss: 0.3357 - accuracy: 0.8625 - val_loss: 0.3619 - val_accuracy: 0.8497\n",
            "Epoch 26/100\n",
            "536/536 [==============================] - 1s 2ms/step - loss: 0.3352 - accuracy: 0.8619 - val_loss: 0.3617 - val_accuracy: 0.8527\n",
            "Epoch 27/100\n",
            "536/536 [==============================] - 1s 2ms/step - loss: 0.3345 - accuracy: 0.8623 - val_loss: 0.3617 - val_accuracy: 0.8512\n",
            "Epoch 28/100\n",
            "536/536 [==============================] - 1s 2ms/step - loss: 0.3344 - accuracy: 0.8630 - val_loss: 0.3621 - val_accuracy: 0.8523\n",
            "Epoch 29/100\n",
            "536/536 [==============================] - 1s 2ms/step - loss: 0.3339 - accuracy: 0.8632 - val_loss: 0.3608 - val_accuracy: 0.8527\n",
            "Epoch 30/100\n",
            "536/536 [==============================] - 1s 2ms/step - loss: 0.3338 - accuracy: 0.8619 - val_loss: 0.3607 - val_accuracy: 0.8519\n",
            "Epoch 31/100\n",
            "536/536 [==============================] - 1s 2ms/step - loss: 0.3333 - accuracy: 0.8643 - val_loss: 0.3617 - val_accuracy: 0.8504\n",
            "Epoch 32/100\n",
            "536/536 [==============================] - 1s 2ms/step - loss: 0.3335 - accuracy: 0.8630 - val_loss: 0.3596 - val_accuracy: 0.8516\n",
            "Epoch 33/100\n",
            "536/536 [==============================] - 1s 2ms/step - loss: 0.3330 - accuracy: 0.8614 - val_loss: 0.3603 - val_accuracy: 0.8531\n",
            "Epoch 34/100\n",
            "536/536 [==============================] - 1s 2ms/step - loss: 0.3335 - accuracy: 0.8636 - val_loss: 0.3592 - val_accuracy: 0.8501\n",
            "Epoch 35/100\n",
            "536/536 [==============================] - 1s 2ms/step - loss: 0.3326 - accuracy: 0.8642 - val_loss: 0.3603 - val_accuracy: 0.8527\n",
            "Epoch 36/100\n",
            "536/536 [==============================] - 1s 2ms/step - loss: 0.3326 - accuracy: 0.8634 - val_loss: 0.3601 - val_accuracy: 0.8512\n",
            "Epoch 37/100\n",
            "536/536 [==============================] - 1s 2ms/step - loss: 0.3319 - accuracy: 0.8630 - val_loss: 0.3593 - val_accuracy: 0.8512\n",
            "Epoch 38/100\n",
            "536/536 [==============================] - 1s 2ms/step - loss: 0.3321 - accuracy: 0.8638 - val_loss: 0.3601 - val_accuracy: 0.8489\n",
            "Epoch 39/100\n",
            "536/536 [==============================] - 1s 2ms/step - loss: 0.3322 - accuracy: 0.8632 - val_loss: 0.3607 - val_accuracy: 0.8527\n",
            "Epoch 40/100\n",
            "536/536 [==============================] - 1s 2ms/step - loss: 0.3325 - accuracy: 0.8628 - val_loss: 0.3603 - val_accuracy: 0.8512\n",
            "Epoch 41/100\n",
            "536/536 [==============================] - 1s 2ms/step - loss: 0.3318 - accuracy: 0.8632 - val_loss: 0.3609 - val_accuracy: 0.8527\n",
            "Epoch 42/100\n",
            "536/536 [==============================] - 1s 2ms/step - loss: 0.3317 - accuracy: 0.8640 - val_loss: 0.3594 - val_accuracy: 0.8493\n",
            "Epoch 43/100\n",
            "536/536 [==============================] - 1s 2ms/step - loss: 0.3321 - accuracy: 0.8628 - val_loss: 0.3595 - val_accuracy: 0.8504\n",
            "Epoch 44/100\n",
            "536/536 [==============================] - 1s 2ms/step - loss: 0.3317 - accuracy: 0.8621 - val_loss: 0.3604 - val_accuracy: 0.8527\n",
            "Epoch 45/100\n",
            "536/536 [==============================] - 1s 2ms/step - loss: 0.3317 - accuracy: 0.8643 - val_loss: 0.3607 - val_accuracy: 0.8508\n",
            "Epoch 46/100\n",
            "536/536 [==============================] - 1s 2ms/step - loss: 0.3313 - accuracy: 0.8636 - val_loss: 0.3602 - val_accuracy: 0.8493\n",
            "Epoch 47/100\n",
            "536/536 [==============================] - 1s 2ms/step - loss: 0.3316 - accuracy: 0.8643 - val_loss: 0.3610 - val_accuracy: 0.8516\n",
            "Epoch 48/100\n",
            "536/536 [==============================] - 1s 2ms/step - loss: 0.3313 - accuracy: 0.8634 - val_loss: 0.3589 - val_accuracy: 0.8501\n",
            "Epoch 49/100\n",
            "536/536 [==============================] - 1s 2ms/step - loss: 0.3312 - accuracy: 0.8656 - val_loss: 0.3593 - val_accuracy: 0.8508\n",
            "Epoch 50/100\n",
            "536/536 [==============================] - 1s 2ms/step - loss: 0.3312 - accuracy: 0.8655 - val_loss: 0.3617 - val_accuracy: 0.8538\n",
            "Epoch 51/100\n",
            "536/536 [==============================] - 1s 2ms/step - loss: 0.3309 - accuracy: 0.8632 - val_loss: 0.3614 - val_accuracy: 0.8535\n",
            "Epoch 52/100\n",
            "536/536 [==============================] - 1s 2ms/step - loss: 0.3313 - accuracy: 0.8640 - val_loss: 0.3610 - val_accuracy: 0.8531\n",
            "Epoch 53/100\n",
            "536/536 [==============================] - 1s 2ms/step - loss: 0.3312 - accuracy: 0.8640 - val_loss: 0.3604 - val_accuracy: 0.8504\n",
            "Epoch 54/100\n",
            "536/536 [==============================] - 1s 2ms/step - loss: 0.3308 - accuracy: 0.8642 - val_loss: 0.3594 - val_accuracy: 0.8512\n",
            "Epoch 55/100\n",
            "536/536 [==============================] - 1s 2ms/step - loss: 0.3310 - accuracy: 0.8658 - val_loss: 0.3595 - val_accuracy: 0.8519\n",
            "Epoch 56/100\n",
            "536/536 [==============================] - 1s 2ms/step - loss: 0.3310 - accuracy: 0.8653 - val_loss: 0.3591 - val_accuracy: 0.8516\n",
            "Epoch 57/100\n",
            "536/536 [==============================] - 1s 2ms/step - loss: 0.3308 - accuracy: 0.8653 - val_loss: 0.3599 - val_accuracy: 0.8523\n",
            "Epoch 58/100\n",
            "536/536 [==============================] - 1s 2ms/step - loss: 0.3305 - accuracy: 0.8632 - val_loss: 0.3594 - val_accuracy: 0.8531\n",
            "Epoch 59/100\n",
            "536/536 [==============================] - 1s 2ms/step - loss: 0.3308 - accuracy: 0.8651 - val_loss: 0.3590 - val_accuracy: 0.8531\n",
            "Epoch 60/100\n",
            "536/536 [==============================] - 1s 2ms/step - loss: 0.3298 - accuracy: 0.8645 - val_loss: 0.3601 - val_accuracy: 0.8546\n",
            "Epoch 61/100\n",
            "536/536 [==============================] - 1s 2ms/step - loss: 0.3300 - accuracy: 0.8664 - val_loss: 0.3597 - val_accuracy: 0.8523\n",
            "Epoch 62/100\n",
            "536/536 [==============================] - 1s 2ms/step - loss: 0.3309 - accuracy: 0.8655 - val_loss: 0.3584 - val_accuracy: 0.8512\n",
            "Epoch 63/100\n",
            "536/536 [==============================] - 1s 2ms/step - loss: 0.3306 - accuracy: 0.8664 - val_loss: 0.3594 - val_accuracy: 0.8535\n",
            "Epoch 64/100\n",
            "536/536 [==============================] - 1s 2ms/step - loss: 0.3302 - accuracy: 0.8664 - val_loss: 0.3586 - val_accuracy: 0.8527\n",
            "Epoch 65/100\n",
            "536/536 [==============================] - 1s 2ms/step - loss: 0.3301 - accuracy: 0.8636 - val_loss: 0.3587 - val_accuracy: 0.8527\n",
            "Epoch 66/100\n",
            "536/536 [==============================] - 1s 2ms/step - loss: 0.3302 - accuracy: 0.8645 - val_loss: 0.3586 - val_accuracy: 0.8542\n",
            "Epoch 67/100\n",
            "536/536 [==============================] - 1s 2ms/step - loss: 0.3299 - accuracy: 0.8668 - val_loss: 0.3590 - val_accuracy: 0.8516\n",
            "Epoch 68/100\n",
            "536/536 [==============================] - 1s 2ms/step - loss: 0.3297 - accuracy: 0.8664 - val_loss: 0.3592 - val_accuracy: 0.8519\n",
            "Epoch 69/100\n",
            "536/536 [==============================] - 1s 2ms/step - loss: 0.3299 - accuracy: 0.8660 - val_loss: 0.3580 - val_accuracy: 0.8519\n",
            "Epoch 70/100\n",
            "536/536 [==============================] - 1s 2ms/step - loss: 0.3297 - accuracy: 0.8651 - val_loss: 0.3588 - val_accuracy: 0.8508\n",
            "Epoch 71/100\n",
            "536/536 [==============================] - 1s 2ms/step - loss: 0.3298 - accuracy: 0.8656 - val_loss: 0.3611 - val_accuracy: 0.8501\n",
            "Epoch 72/100\n",
            "536/536 [==============================] - 1s 2ms/step - loss: 0.3292 - accuracy: 0.8670 - val_loss: 0.3584 - val_accuracy: 0.8527\n",
            "Epoch 73/100\n",
            "536/536 [==============================] - 1s 2ms/step - loss: 0.3294 - accuracy: 0.8636 - val_loss: 0.3586 - val_accuracy: 0.8531\n",
            "Epoch 74/100\n",
            "536/536 [==============================] - 1s 2ms/step - loss: 0.3296 - accuracy: 0.8640 - val_loss: 0.3577 - val_accuracy: 0.8527\n",
            "Epoch 75/100\n",
            "536/536 [==============================] - 1s 2ms/step - loss: 0.3293 - accuracy: 0.8647 - val_loss: 0.3585 - val_accuracy: 0.8519\n",
            "Epoch 76/100\n",
            "536/536 [==============================] - 1s 2ms/step - loss: 0.3294 - accuracy: 0.8660 - val_loss: 0.3577 - val_accuracy: 0.8523\n",
            "Epoch 77/100\n",
            "536/536 [==============================] - 1s 2ms/step - loss: 0.3291 - accuracy: 0.8655 - val_loss: 0.3579 - val_accuracy: 0.8531\n",
            "Epoch 78/100\n",
            "536/536 [==============================] - 1s 2ms/step - loss: 0.3290 - accuracy: 0.8664 - val_loss: 0.3587 - val_accuracy: 0.8519\n",
            "Epoch 79/100\n",
            "536/536 [==============================] - 1s 2ms/step - loss: 0.3285 - accuracy: 0.8655 - val_loss: 0.3617 - val_accuracy: 0.8542\n",
            "Epoch 80/100\n",
            "536/536 [==============================] - 1s 2ms/step - loss: 0.3290 - accuracy: 0.8634 - val_loss: 0.3578 - val_accuracy: 0.8504\n",
            "Epoch 81/100\n",
            "536/536 [==============================] - 1s 2ms/step - loss: 0.3283 - accuracy: 0.8660 - val_loss: 0.3591 - val_accuracy: 0.8497\n",
            "Epoch 82/100\n",
            "536/536 [==============================] - 1s 2ms/step - loss: 0.3286 - accuracy: 0.8666 - val_loss: 0.3583 - val_accuracy: 0.8523\n",
            "Epoch 83/100\n",
            "536/536 [==============================] - 1s 2ms/step - loss: 0.3285 - accuracy: 0.8651 - val_loss: 0.3580 - val_accuracy: 0.8527\n",
            "Epoch 84/100\n",
            "536/536 [==============================] - 1s 2ms/step - loss: 0.3293 - accuracy: 0.8640 - val_loss: 0.3582 - val_accuracy: 0.8531\n",
            "Epoch 85/100\n",
            "536/536 [==============================] - 1s 2ms/step - loss: 0.3292 - accuracy: 0.8649 - val_loss: 0.3577 - val_accuracy: 0.8531\n",
            "Epoch 86/100\n",
            "536/536 [==============================] - 1s 2ms/step - loss: 0.3278 - accuracy: 0.8638 - val_loss: 0.3616 - val_accuracy: 0.8501\n",
            "Epoch 87/100\n",
            "536/536 [==============================] - 1s 2ms/step - loss: 0.3283 - accuracy: 0.8643 - val_loss: 0.3583 - val_accuracy: 0.8527\n",
            "Epoch 88/100\n",
            "536/536 [==============================] - 1s 2ms/step - loss: 0.3287 - accuracy: 0.8640 - val_loss: 0.3578 - val_accuracy: 0.8550\n",
            "Epoch 89/100\n",
            "536/536 [==============================] - 1s 2ms/step - loss: 0.3285 - accuracy: 0.8643 - val_loss: 0.3580 - val_accuracy: 0.8546\n",
            "Epoch 90/100\n",
            "536/536 [==============================] - 1s 2ms/step - loss: 0.3285 - accuracy: 0.8630 - val_loss: 0.3577 - val_accuracy: 0.8535\n",
            "Epoch 91/100\n",
            "536/536 [==============================] - 1s 2ms/step - loss: 0.3279 - accuracy: 0.8666 - val_loss: 0.3585 - val_accuracy: 0.8512\n",
            "Epoch 92/100\n",
            "536/536 [==============================] - 1s 2ms/step - loss: 0.3284 - accuracy: 0.8656 - val_loss: 0.3573 - val_accuracy: 0.8527\n",
            "Epoch 93/100\n",
            "536/536 [==============================] - 1s 2ms/step - loss: 0.3286 - accuracy: 0.8642 - val_loss: 0.3567 - val_accuracy: 0.8519\n",
            "Epoch 94/100\n",
            "536/536 [==============================] - 1s 2ms/step - loss: 0.3282 - accuracy: 0.8653 - val_loss: 0.3572 - val_accuracy: 0.8538\n",
            "Epoch 95/100\n",
            "536/536 [==============================] - 1s 2ms/step - loss: 0.3280 - accuracy: 0.8643 - val_loss: 0.3568 - val_accuracy: 0.8538\n",
            "Epoch 96/100\n",
            "536/536 [==============================] - 1s 2ms/step - loss: 0.3285 - accuracy: 0.8662 - val_loss: 0.3569 - val_accuracy: 0.8535\n",
            "Epoch 97/100\n",
            "536/536 [==============================] - 1s 2ms/step - loss: 0.3279 - accuracy: 0.8651 - val_loss: 0.3568 - val_accuracy: 0.8550\n",
            "Epoch 98/100\n",
            "536/536 [==============================] - 1s 2ms/step - loss: 0.3279 - accuracy: 0.8662 - val_loss: 0.3564 - val_accuracy: 0.8523\n",
            "Epoch 99/100\n",
            "536/536 [==============================] - 1s 2ms/step - loss: 0.3276 - accuracy: 0.8651 - val_loss: 0.3569 - val_accuracy: 0.8546\n",
            "Epoch 100/100\n",
            "536/536 [==============================] - 1s 2ms/step - loss: 0.3279 - accuracy: 0.8640 - val_loss: 0.3568 - val_accuracy: 0.8557\n"
          ]
        }
      ]
    },
    {
      "cell_type": "code",
      "source": [
        "# Predicting the values for test data\n",
        "y_pred = classifier.predict(x_test)\n",
        "y_pred = (y_pred > 0.5)"
      ],
      "metadata": {
        "id": "DgWAdFa6WxKZ"
      },
      "execution_count": 50,
      "outputs": []
    },
    {
      "cell_type": "code",
      "source": [
        "# creating confusion matrix\n",
        "from sklearn.metrics import confusion_matrix\n",
        "cm = confusion_matrix(y_test, y_pred)"
      ],
      "metadata": {
        "id": "imFQma31W_BI"
      },
      "execution_count": 51,
      "outputs": []
    },
    {
      "cell_type": "code",
      "source": [
        "cm"
      ],
      "metadata": {
        "colab": {
          "base_uri": "https://localhost:8080/"
        },
        "id": "P75-aK0jXJpX",
        "outputId": "e798ab1f-0130-4780-8415-e736698d8130"
      },
      "execution_count": 52,
      "outputs": [
        {
          "output_type": "execute_result",
          "data": {
            "text/plain": [
              "array([[1505,   90],\n",
              "       [ 195,  210]])"
            ]
          },
          "metadata": {},
          "execution_count": 52
        }
      ]
    },
    {
      "cell_type": "code",
      "source": [
        "# Print accuracy\n",
        "from sklearn.metrics import accuracy_score\n",
        "score = accuracy_score(y_pred, y_test)\n",
        "score"
      ],
      "metadata": {
        "colab": {
          "base_uri": "https://localhost:8080/"
        },
        "id": "DlZBW4akXMqR",
        "outputId": "952aae8e-5bd5-43d7-b359-9282e80e462f"
      },
      "execution_count": 53,
      "outputs": [
        {
          "output_type": "execute_result",
          "data": {
            "text/plain": [
              "0.8575"
            ]
          },
          "metadata": {},
          "execution_count": 53
        }
      ]
    },
    {
      "cell_type": "code",
      "source": [
        ""
      ],
      "metadata": {
        "id": "AOyhdhq9XYFP"
      },
      "execution_count": null,
      "outputs": []
    }
  ]
}